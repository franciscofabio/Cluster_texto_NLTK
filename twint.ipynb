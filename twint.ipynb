{
 "cells": [
  {
   "cell_type": "code",
   "execution_count": 11,
   "metadata": {},
   "outputs": [
    {
     "name": "stdout",
     "output_type": "stream",
     "text": [
      "Collecting twint\n",
      "  Cloning https://github.com/twintproject/twint.git (to revision origin/master) to c:\\users\\fabio\\appdata\\local\\temp\\pip-install-bskqkpe3\\twint_10cfb03388794889a27eaf792092f607\n",
      "  Resolved https://github.com/twintproject/twint.git to commit origin/master\n",
      "  Preparing metadata (setup.py): started\n",
      "  Preparing metadata (setup.py): finished with status 'done'\n",
      "Requirement already satisfied: aiohttp in c:\\python39\\lib\\site-packages (from twint) (3.8.1)\n",
      "Requirement already satisfied: aiodns in c:\\python39\\lib\\site-packages (from twint) (3.0.0)\n",
      "Requirement already satisfied: beautifulsoup4 in c:\\python39\\lib\\site-packages (from twint) (4.10.0)\n",
      "Requirement already satisfied: cchardet in c:\\python39\\lib\\site-packages (from twint) (2.1.7)\n",
      "Requirement already satisfied: dataclasses in c:\\python39\\lib\\site-packages (from twint) (0.6)\n",
      "Requirement already satisfied: elasticsearch in c:\\python39\\lib\\site-packages (from twint) (8.1.2)\n",
      "Requirement already satisfied: pysocks in c:\\python39\\lib\\site-packages (from twint) (1.7.1)\n",
      "Requirement already satisfied: pandas in c:\\python39\\lib\\site-packages (from twint) (1.3.4)\n",
      "Requirement already satisfied: aiohttp_socks in c:\\python39\\lib\\site-packages (from twint) (0.4.1)\n",
      "Requirement already satisfied: schedule in c:\\python39\\lib\\site-packages (from twint) (1.1.0)\n",
      "Requirement already satisfied: geopy in c:\\python39\\lib\\site-packages (from twint) (2.2.0)\n",
      "Requirement already satisfied: fake-useragent in c:\\python39\\lib\\site-packages (from twint) (0.1.11)\n",
      "Requirement already satisfied: googletransx in c:\\python39\\lib\\site-packages (from twint) (2.4.2)\n",
      "Requirement already satisfied: pycares>=4.0.0 in c:\\python39\\lib\\site-packages (from aiodns->twint) (4.1.2)\n",
      "Requirement already satisfied: aiosignal>=1.1.2 in c:\\python39\\lib\\site-packages (from aiohttp->twint) (1.2.0)\n",
      "Requirement already satisfied: charset-normalizer<3.0,>=2.0 in c:\\python39\\lib\\site-packages (from aiohttp->twint) (2.0.7)\n"
     ]
    },
    {
     "name": "stderr",
     "output_type": "stream",
     "text": [
      "WARNING: Ignoring invalid distribution -ip (c:\\python39\\lib\\site-packages)\n",
      "WARNING: Ignoring invalid distribution -ip (c:\\python39\\lib\\site-packages)\n",
      "  Running command git clone --filter=blob:none --quiet https://github.com/twintproject/twint.git 'C:\\Users\\Fabio\\AppData\\Local\\Temp\\pip-install-bskqkpe3\\twint_10cfb03388794889a27eaf792092f607'\n",
      "  WARNING: Did not find branch or tag 'origin/master', assuming revision or ref.\n",
      "  Running command git checkout -q origin/master\n",
      "WARNING: Ignoring invalid distribution -ip (c:\\python39\\lib\\site-packages)\n",
      "WARNING: Ignoring invalid distribution -ip (c:\\python39\\lib\\site-packages)\n",
      "WARNING: Ignoring invalid distribution -ip (c:\\python39\\lib\\site-packages)\n"
     ]
    },
    {
     "name": "stdout",
     "output_type": "stream",
     "text": [
      "Requirement already satisfied: yarl<2.0,>=1.0 in c:\\python39\\lib\\site-packages (from aiohttp->twint) (1.7.2)\n",
      "Requirement already satisfied: multidict<7.0,>=4.5 in c:\\python39\\lib\\site-packages (from aiohttp->twint) (6.0.2)\n",
      "Requirement already satisfied: attrs>=17.3.0 in c:\\python39\\lib\\site-packages (from aiohttp->twint) (21.2.0)\n",
      "Requirement already satisfied: async-timeout<5.0,>=4.0.0a3 in c:\\python39\\lib\\site-packages (from aiohttp->twint) (4.0.2)\n",
      "Requirement already satisfied: frozenlist>=1.1.1 in c:\\python39\\lib\\site-packages (from aiohttp->twint) (1.3.0)\n",
      "Requirement already satisfied: soupsieve>1.2 in c:\\python39\\lib\\site-packages (from beautifulsoup4->twint) (2.3.1)\n",
      "Requirement already satisfied: elastic-transport<9,>=8 in c:\\python39\\lib\\site-packages (from elasticsearch->twint) (8.1.1)\n",
      "Requirement already satisfied: geographiclib<2,>=1.49 in c:\\python39\\lib\\site-packages (from geopy->twint) (1.52)\n",
      "Requirement already satisfied: requests in c:\\python39\\lib\\site-packages (from googletransx->twint) (2.26.0)\n",
      "Requirement already satisfied: python-dateutil>=2.7.3 in c:\\python39\\lib\\site-packages (from pandas->twint) (2.8.2)\n",
      "Requirement already satisfied: pytz>=2017.3 in c:\\python39\\lib\\site-packages (from pandas->twint) (2021.3)\n",
      "Requirement already satisfied: numpy>=1.17.3 in c:\\python39\\lib\\site-packages (from pandas->twint) (1.21.4)\n",
      "Requirement already satisfied: certifi in c:\\python39\\lib\\site-packages (from elastic-transport<9,>=8->elasticsearch->twint) (2021.10.8)\n",
      "Requirement already satisfied: urllib3<2,>=1.26.2 in c:\\python39\\lib\\site-packages (from elastic-transport<9,>=8->elasticsearch->twint) (1.26.7)\n",
      "Requirement already satisfied: cffi>=1.5.0 in c:\\python39\\lib\\site-packages (from pycares>=4.0.0->aiodns->twint) (1.15.0)\n",
      "Requirement already satisfied: six>=1.5 in c:\\python39\\lib\\site-packages (from python-dateutil>=2.7.3->pandas->twint) (1.16.0)\n",
      "Requirement already satisfied: idna>=2.0 in c:\\python39\\lib\\site-packages (from yarl<2.0,>=1.0->aiohttp->twint) (3.3)\n",
      "Requirement already satisfied: pycparser in c:\\python39\\lib\\site-packages (from cffi>=1.5.0->pycares>=4.0.0->aiodns->twint) (2.20)\n"
     ]
    }
   ],
   "source": [
    "!pip3 install --user --upgrade git+https://github.com/twintproject/twint.git@origin/master#egg=twint"
   ]
  },
  {
   "cell_type": "code",
   "execution_count": 9,
   "metadata": {},
   "outputs": [
    {
     "name": "stdout",
     "output_type": "stream",
     "text": [
      "Requirement already satisfied: Translator in c:\\python39\\lib\\site-packages (0.0.9)\n",
      "Requirement already satisfied: beautifulsoup4>=4.0 in c:\\python39\\lib\\site-packages (from Translator) (4.10.0)\n",
      "Requirement already satisfied: soupsieve>1.2 in c:\\python39\\lib\\site-packages (from beautifulsoup4>=4.0->Translator) (2.3.1)\n"
     ]
    },
    {
     "name": "stderr",
     "output_type": "stream",
     "text": [
      "WARNING: Ignoring invalid distribution -ip (c:\\python39\\lib\\site-packages)\n",
      "WARNING: Ignoring invalid distribution -ip (c:\\python39\\lib\\site-packages)\n",
      "WARNING: Ignoring invalid distribution -ip (c:\\python39\\lib\\site-packages)\n",
      "WARNING: Ignoring invalid distribution -ip (c:\\python39\\lib\\site-packages)\n",
      "WARNING: Ignoring invalid distribution -ip (c:\\python39\\lib\\site-packages)\n"
     ]
    }
   ],
   "source": [
    "!pip install Translator"
   ]
  },
  {
   "cell_type": "code",
   "execution_count": null,
   "metadata": {},
   "outputs": [],
   "source": []
  },
  {
   "cell_type": "code",
   "execution_count": 13,
   "metadata": {},
   "outputs": [
    {
     "name": "stdout",
     "output_type": "stream",
     "text": [
      "Requirement already satisfied: twint in c:\\users\\fabio\\appdata\\roaming\\python\\python39\\site-packages (2.1.21)\n",
      "Requirement already satisfied: aiohttp in c:\\python39\\lib\\site-packages (from twint) (3.8.1)\n",
      "Requirement already satisfied: aiodns in c:\\python39\\lib\\site-packages (from twint) (3.0.0)\n",
      "Requirement already satisfied: beautifulsoup4 in c:\\python39\\lib\\site-packages (from twint) (4.10.0)\n",
      "Requirement already satisfied: cchardet in c:\\python39\\lib\\site-packages (from twint) (2.1.7)\n",
      "Requirement already satisfied: dataclasses in c:\\python39\\lib\\site-packages (from twint) (0.6)\n",
      "Requirement already satisfied: elasticsearch in c:\\python39\\lib\\site-packages (from twint) (8.1.2)\n",
      "Requirement already satisfied: pysocks in c:\\python39\\lib\\site-packages (from twint) (1.7.1)\n",
      "Requirement already satisfied: pandas in c:\\python39\\lib\\site-packages (from twint) (1.3.4)\n",
      "Requirement already satisfied: aiohttp_socks in c:\\python39\\lib\\site-packages (from twint) (0.4.1)\n",
      "Requirement already satisfied: schedule in c:\\python39\\lib\\site-packages (from twint) (1.1.0)\n",
      "Requirement already satisfied: geopy in c:\\python39\\lib\\site-packages (from twint) (2.2.0)\n",
      "Requirement already satisfied: fake-useragent in c:\\python39\\lib\\site-packages (from twint) (0.1.11)\n",
      "Requirement already satisfied: googletransx in c:\\python39\\lib\\site-packages (from twint) (2.4.2)\n",
      "Requirement already satisfied: pycares>=4.0.0 in c:\\python39\\lib\\site-packages (from aiodns->twint) (4.1.2)\n",
      "Requirement already satisfied: frozenlist>=1.1.1 in c:\\python39\\lib\\site-packages (from aiohttp->twint) (1.3.0)\n",
      "Requirement already satisfied: async-timeout<5.0,>=4.0.0a3 in c:\\python39\\lib\\site-packages (from aiohttp->twint) (4.0.2)\n",
      "Requirement already satisfied: multidict<7.0,>=4.5 in c:\\python39\\lib\\site-packages (from aiohttp->twint) (6.0.2)\n",
      "Requirement already satisfied: attrs>=17.3.0 in c:\\python39\\lib\\site-packages (from aiohttp->twint) (21.2.0)\n",
      "Requirement already satisfied: aiosignal>=1.1.2 in c:\\python39\\lib\\site-packages (from aiohttp->twint) (1.2.0)\n",
      "Requirement already satisfied: yarl<2.0,>=1.0 in c:\\python39\\lib\\site-packages (from aiohttp->twint) (1.7.2)\n",
      "Requirement already satisfied: charset-normalizer<3.0,>=2.0 in c:\\python39\\lib\\site-packages (from aiohttp->twint) (2.0.7)\n",
      "Requirement already satisfied: soupsieve>1.2 in c:\\python39\\lib\\site-packages (from beautifulsoup4->twint) (2.3.1)\n",
      "Requirement already satisfied: elastic-transport<9,>=8 in c:\\python39\\lib\\site-packages (from elasticsearch->twint) (8.1.1)\n",
      "Requirement already satisfied: geographiclib<2,>=1.49 in c:\\python39\\lib\\site-packages (from geopy->twint) (1.52)\n",
      "Requirement already satisfied: requests in c:\\python39\\lib\\site-packages (from googletransx->twint) (2.26.0)\n",
      "Requirement already satisfied: pytz>=2017.3 in c:\\python39\\lib\\site-packages (from pandas->twint) (2021.3)\n",
      "Requirement already satisfied: numpy>=1.17.3 in c:\\python39\\lib\\site-packages (from pandas->twint) (1.21.4)\n",
      "Requirement already satisfied: python-dateutil>=2.7.3 in c:\\python39\\lib\\site-packages (from pandas->twint) (2.8.2)\n",
      "Requirement already satisfied: certifi in c:\\python39\\lib\\site-packages (from elastic-transport<9,>=8->elasticsearch->twint) (2021.10.8)\n",
      "Requirement already satisfied: urllib3<2,>=1.26.2 in c:\\python39\\lib\\site-packages (from elastic-transport<9,>=8->elasticsearch->twint) (1.26.7)\n",
      "Requirement already satisfied: cffi>=1.5.0 in c:\\python39\\lib\\site-packages (from pycares>=4.0.0->aiodns->twint) (1.15.0)\n",
      "Requirement already satisfied: six>=1.5 in c:\\python39\\lib\\site-packages (from python-dateutil>=2.7.3->pandas->twint) (1.16.0)\n",
      "Requirement already satisfied: idna>=2.0 in c:\\python39\\lib\\site-packages (from yarl<2.0,>=1.0->aiohttp->twint) (3.3)\n",
      "Requirement already satisfied: pycparser in c:\\python39\\lib\\site-packages (from cffi>=1.5.0->pycares>=4.0.0->aiodns->twint) (2.20)\n"
     ]
    },
    {
     "name": "stderr",
     "output_type": "stream",
     "text": [
      "WARNING: Ignoring invalid distribution -ip (c:\\python39\\lib\\site-packages)\n",
      "WARNING: Ignoring invalid distribution -ip (c:\\python39\\lib\\site-packages)\n",
      "WARNING: Ignoring invalid distribution -ip (c:\\python39\\lib\\site-packages)\n",
      "WARNING: Ignoring invalid distribution -ip (c:\\python39\\lib\\site-packages)\n",
      "WARNING: Ignoring invalid distribution -ip (c:\\python39\\lib\\site-packages)\n"
     ]
    }
   ],
   "source": [
    "!pip install twint"
   ]
  },
  {
   "cell_type": "code",
   "execution_count": 6,
   "metadata": {},
   "outputs": [
    {
     "name": "stdout",
     "output_type": "stream",
     "text": [
      "Requirement already satisfied: numpy in c:\\users\\fabio\\anaconda3\\lib\\site-packages (1.22.3)\n"
     ]
    }
   ],
   "source": [
    "!pip  install --upgrade numpy\n"
   ]
  },
  {
   "cell_type": "code",
   "execution_count": 32,
   "metadata": {},
   "outputs": [
    {
     "name": "stdout",
     "output_type": "stream",
     "text": [
      "Collecting aiohttp==3.7.0\n",
      "  Downloading aiohttp-3.7.0-cp38-cp38-win_amd64.whl (633 kB)\n",
      "Requirement already satisfied: multidict<7.0,>=4.5 in c:\\users\\fabio\\anaconda3\\lib\\site-packages (from aiohttp==3.7.0) (6.0.2)\n",
      "Collecting async-timeout<4.0,>=3.0\n",
      "  Downloading async_timeout-3.0.1-py3-none-any.whl (8.2 kB)\n",
      "Requirement already satisfied: yarl<2.0,>=1.0 in c:\\users\\fabio\\anaconda3\\lib\\site-packages (from aiohttp==3.7.0) (1.7.2)\n",
      "Requirement already satisfied: attrs>=17.3.0 in c:\\users\\fabio\\anaconda3\\lib\\site-packages (from aiohttp==3.7.0) (21.2.0)\n",
      "Collecting chardet<4.0,>=2.0\n",
      "  Downloading chardet-3.0.4-py2.py3-none-any.whl (133 kB)\n",
      "Requirement already satisfied: idna>=2.0 in c:\\users\\fabio\\anaconda3\\lib\\site-packages (from yarl<2.0,>=1.0->aiohttp==3.7.0) (3.2)\n",
      "Installing collected packages: chardet, async-timeout, aiohttp\n",
      "  Attempting uninstall: chardet\n",
      "    Found existing installation: chardet 4.0.0\n",
      "    Uninstalling chardet-4.0.0:\n",
      "      Successfully uninstalled chardet-4.0.0\n",
      "  Attempting uninstall: async-timeout\n",
      "    Found existing installation: async-timeout 4.0.2\n",
      "    Uninstalling async-timeout-4.0.2:\n",
      "      Successfully uninstalled async-timeout-4.0.2\n",
      "  Attempting uninstall: aiohttp\n",
      "    Found existing installation: aiohttp 3.8.1\n",
      "    Uninstalling aiohttp-3.8.1:\n",
      "      Successfully uninstalled aiohttp-3.8.1\n",
      "Successfully installed aiohttp-3.7.0 async-timeout-3.0.1 chardet-3.0.4\n"
     ]
    }
   ],
   "source": [
    "!pip install aiohttp==3.7.0"
   ]
  },
  {
   "cell_type": "code",
   "execution_count": 14,
   "metadata": {},
   "outputs": [
    {
     "ename": "ImportError",
     "evalue": "cannot import name 'CeilTimeout' from 'aiohttp.helpers' (c:\\python39\\lib\\site-packages\\aiohttp\\helpers.py)",
     "output_type": "error",
     "traceback": [
      "\u001b[1;31m---------------------------------------------------------------------------\u001b[0m",
      "\u001b[1;31mImportError\u001b[0m                               Traceback (most recent call last)",
      "\u001b[1;32m~\\AppData\\Local\\Temp/ipykernel_9848/2956706746.py\u001b[0m in \u001b[0;36m<module>\u001b[1;34m\u001b[0m\n\u001b[1;32m----> 1\u001b[1;33m \u001b[1;32mimport\u001b[0m \u001b[0mtwint\u001b[0m\u001b[1;33m\u001b[0m\u001b[1;33m\u001b[0m\u001b[0m\n\u001b[0m\u001b[0;32m      2\u001b[0m \u001b[1;32mimport\u001b[0m \u001b[0mnest_asyncio\u001b[0m\u001b[1;33m\u001b[0m\u001b[1;33m\u001b[0m\u001b[0m\n",
      "\u001b[1;32m~\\AppData\\Roaming\\Python\\Python39\\site-packages\\twint\\__init__.py\u001b[0m in \u001b[0;36m<module>\u001b[1;34m\u001b[0m\n\u001b[0;32m     12\u001b[0m \u001b[1;32mfrom\u001b[0m \u001b[1;33m.\u001b[0m\u001b[0mconfig\u001b[0m \u001b[1;32mimport\u001b[0m \u001b[0mConfig\u001b[0m\u001b[1;33m\u001b[0m\u001b[1;33m\u001b[0m\u001b[0m\n\u001b[0;32m     13\u001b[0m \u001b[1;32mfrom\u001b[0m \u001b[1;33m.\u001b[0m\u001b[0m__version__\u001b[0m \u001b[1;32mimport\u001b[0m \u001b[0m__version__\u001b[0m\u001b[1;33m\u001b[0m\u001b[1;33m\u001b[0m\u001b[0m\n\u001b[1;32m---> 14\u001b[1;33m \u001b[1;32mfrom\u001b[0m \u001b[1;33m.\u001b[0m \u001b[1;32mimport\u001b[0m \u001b[0mrun\u001b[0m\u001b[1;33m\u001b[0m\u001b[1;33m\u001b[0m\u001b[0m\n\u001b[0m\u001b[0;32m     15\u001b[0m \u001b[1;33m\u001b[0m\u001b[0m\n\u001b[0;32m     16\u001b[0m _levels = {\n",
      "\u001b[1;32m~\\AppData\\Roaming\\Python\\Python39\\site-packages\\twint\\run.py\u001b[0m in \u001b[0;36m<module>\u001b[1;34m\u001b[0m\n\u001b[0;32m      2\u001b[0m \u001b[1;32mfrom\u001b[0m \u001b[0masyncio\u001b[0m \u001b[1;32mimport\u001b[0m \u001b[0mget_event_loop\u001b[0m\u001b[1;33m,\u001b[0m \u001b[0mTimeoutError\u001b[0m\u001b[1;33m,\u001b[0m \u001b[0mensure_future\u001b[0m\u001b[1;33m,\u001b[0m \u001b[0mnew_event_loop\u001b[0m\u001b[1;33m,\u001b[0m \u001b[0mset_event_loop\u001b[0m\u001b[1;33m\u001b[0m\u001b[1;33m\u001b[0m\u001b[0m\n\u001b[0;32m      3\u001b[0m \u001b[1;33m\u001b[0m\u001b[0m\n\u001b[1;32m----> 4\u001b[1;33m \u001b[1;32mfrom\u001b[0m \u001b[1;33m.\u001b[0m \u001b[1;32mimport\u001b[0m \u001b[0mdatelock\u001b[0m\u001b[1;33m,\u001b[0m \u001b[0mfeed\u001b[0m\u001b[1;33m,\u001b[0m \u001b[0mget\u001b[0m\u001b[1;33m,\u001b[0m \u001b[0moutput\u001b[0m\u001b[1;33m,\u001b[0m \u001b[0mverbose\u001b[0m\u001b[1;33m,\u001b[0m \u001b[0mstorage\u001b[0m\u001b[1;33m\u001b[0m\u001b[1;33m\u001b[0m\u001b[0m\n\u001b[0m\u001b[0;32m      5\u001b[0m \u001b[1;32mfrom\u001b[0m \u001b[1;33m.\u001b[0m\u001b[0mtoken\u001b[0m \u001b[1;32mimport\u001b[0m \u001b[0mTokenExpiryException\u001b[0m\u001b[1;33m\u001b[0m\u001b[1;33m\u001b[0m\u001b[0m\n\u001b[0;32m      6\u001b[0m \u001b[1;32mfrom\u001b[0m \u001b[1;33m.\u001b[0m \u001b[1;32mimport\u001b[0m \u001b[0mtoken\u001b[0m\u001b[1;33m\u001b[0m\u001b[1;33m\u001b[0m\u001b[0m\n",
      "\u001b[1;32m~\\AppData\\Roaming\\Python\\Python39\\site-packages\\twint\\get.py\u001b[0m in \u001b[0;36m<module>\u001b[1;34m\u001b[0m\n\u001b[0;32m     10\u001b[0m \u001b[1;32mimport\u001b[0m \u001b[0mrandom\u001b[0m\u001b[1;33m\u001b[0m\u001b[1;33m\u001b[0m\u001b[0m\n\u001b[0;32m     11\u001b[0m \u001b[1;32mfrom\u001b[0m \u001b[0mjson\u001b[0m \u001b[1;32mimport\u001b[0m \u001b[0mloads\u001b[0m\u001b[1;33m,\u001b[0m \u001b[0mdumps\u001b[0m\u001b[1;33m\u001b[0m\u001b[1;33m\u001b[0m\u001b[0m\n\u001b[1;32m---> 12\u001b[1;33m \u001b[1;32mfrom\u001b[0m \u001b[0maiohttp_socks\u001b[0m \u001b[1;32mimport\u001b[0m \u001b[0mProxyConnector\u001b[0m\u001b[1;33m,\u001b[0m \u001b[0mProxyType\u001b[0m\u001b[1;33m\u001b[0m\u001b[1;33m\u001b[0m\u001b[0m\n\u001b[0m\u001b[0;32m     13\u001b[0m \u001b[1;32mfrom\u001b[0m \u001b[0murllib\u001b[0m\u001b[1;33m.\u001b[0m\u001b[0mparse\u001b[0m \u001b[1;32mimport\u001b[0m \u001b[0mquote\u001b[0m\u001b[1;33m\u001b[0m\u001b[1;33m\u001b[0m\u001b[0m\n\u001b[0;32m     14\u001b[0m \u001b[1;33m\u001b[0m\u001b[0m\n",
      "\u001b[1;32mc:\\python39\\lib\\site-packages\\aiohttp_socks\\__init__.py\u001b[0m in \u001b[0;36m<module>\u001b[1;34m\u001b[0m\n\u001b[0;32m      3\u001b[0m \u001b[1;33m\u001b[0m\u001b[0m\n\u001b[0;32m      4\u001b[0m \u001b[1;32mfrom\u001b[0m \u001b[1;33m.\u001b[0m\u001b[0mproxy\u001b[0m \u001b[1;32mimport\u001b[0m \u001b[0mSocksVer\u001b[0m\u001b[1;33m,\u001b[0m \u001b[0mProxyType\u001b[0m\u001b[1;33m\u001b[0m\u001b[1;33m\u001b[0m\u001b[0m\n\u001b[1;32m----> 5\u001b[1;33m from .connector import (\n\u001b[0m\u001b[0;32m      6\u001b[0m     \u001b[0mSocksConnector\u001b[0m\u001b[1;33m,\u001b[0m \u001b[0mProxyConnector\u001b[0m\u001b[1;33m,\u001b[0m\u001b[1;33m\u001b[0m\u001b[1;33m\u001b[0m\u001b[0m\n\u001b[0;32m      7\u001b[0m     \u001b[0mChainProxyConnector\u001b[0m\u001b[1;33m,\u001b[0m \u001b[0mProxyInfo\u001b[0m\u001b[1;33m\u001b[0m\u001b[1;33m\u001b[0m\u001b[0m\n",
      "\u001b[1;32mc:\\python39\\lib\\site-packages\\aiohttp_socks\\connector.py\u001b[0m in \u001b[0;36m<module>\u001b[1;34m\u001b[0m\n\u001b[0;32m      6\u001b[0m \u001b[1;32mfrom\u001b[0m \u001b[0maiohttp\u001b[0m \u001b[1;32mimport\u001b[0m \u001b[0mTCPConnector\u001b[0m\u001b[1;33m\u001b[0m\u001b[1;33m\u001b[0m\u001b[0m\n\u001b[0;32m      7\u001b[0m \u001b[1;32mfrom\u001b[0m \u001b[0maiohttp\u001b[0m\u001b[1;33m.\u001b[0m\u001b[0mabc\u001b[0m \u001b[1;32mimport\u001b[0m \u001b[0mAbstractResolver\u001b[0m\u001b[1;33m\u001b[0m\u001b[1;33m\u001b[0m\u001b[0m\n\u001b[1;32m----> 8\u001b[1;33m \u001b[1;32mfrom\u001b[0m \u001b[0maiohttp\u001b[0m\u001b[1;33m.\u001b[0m\u001b[0mhelpers\u001b[0m \u001b[1;32mimport\u001b[0m \u001b[0mCeilTimeout\u001b[0m  \u001b[1;31m# noqa\u001b[0m\u001b[1;33m\u001b[0m\u001b[1;33m\u001b[0m\u001b[0m\n\u001b[0m\u001b[0;32m      9\u001b[0m \u001b[1;33m\u001b[0m\u001b[0m\n\u001b[0;32m     10\u001b[0m from .proxy import (ProxyType, SocksVer, ChainProxy,\n",
      "\u001b[1;31mImportError\u001b[0m: cannot import name 'CeilTimeout' from 'aiohttp.helpers' (c:\\python39\\lib\\site-packages\\aiohttp\\helpers.py)"
     ]
    }
   ],
   "source": [
    "import twint\n",
    "import nest_asyncio\n"
   ]
  },
  {
   "cell_type": "code",
   "execution_count": null,
   "metadata": {},
   "outputs": [],
   "source": []
  },
  {
   "cell_type": "code",
   "execution_count": 40,
   "metadata": {},
   "outputs": [],
   "source": [
    "\n",
    "nest_asyncio.apply()\n"
   ]
  },
  {
   "cell_type": "code",
   "execution_count": 41,
   "metadata": {},
   "outputs": [],
   "source": [
    "c = twint.Config()\n"
   ]
  },
  {
   "cell_type": "code",
   "execution_count": 46,
   "metadata": {},
   "outputs": [],
   "source": [
    "c.Search = \"Jair Bolsonaro\"\n",
    "c.Since = \"2022-03-25\"\n",
    "c.Until = \"2022-03-27\"\n",
    "c.Lang = \"pt\"\n",
    "c.Store_csv = True"
   ]
  },
  {
   "cell_type": "code",
   "execution_count": 47,
   "metadata": {},
   "outputs": [],
   "source": [
    "c.Output = \"bolso_2022_n\"\n"
   ]
  },
  {
   "cell_type": "code",
   "execution_count": 48,
   "metadata": {},
   "outputs": [
    {
     "name": "stdout",
     "output_type": "stream",
     "text": [
      "[!] No more data! Scraping will stop now.\n",
      "found 0 deleted tweets in this search.\n"
     ]
    }
   ],
   "source": [
    "twint.run.Search(c)\n"
   ]
  },
  {
   "cell_type": "code",
   "execution_count": 51,
   "metadata": {},
   "outputs": [
    {
     "name": "stdout",
     "output_type": "stream",
     "text": [
      "Note: you may need to restart the kernel to use updated packages.\n"
     ]
    },
    {
     "name": "stderr",
     "output_type": "stream",
     "text": [
      "A sintaxe do nome do arquivo, do nome do diretório ou do rótulo do volume está incorreta.\n"
     ]
    }
   ],
   "source": []
  },
  {
   "cell_type": "code",
   "execution_count": null,
   "metadata": {},
   "outputs": [],
   "source": []
  }
 ],
 "metadata": {
  "kernelspec": {
   "display_name": "Python 3 (ipykernel)",
   "language": "python",
   "name": "python3"
  },
  "language_info": {
   "codemirror_mode": {
    "name": "ipython",
    "version": 3
   },
   "file_extension": ".py",
   "mimetype": "text/x-python",
   "name": "python",
   "nbconvert_exporter": "python",
   "pygments_lexer": "ipython3",
   "version": "3.9.4"
  }
 },
 "nbformat": 4,
 "nbformat_minor": 4
}
